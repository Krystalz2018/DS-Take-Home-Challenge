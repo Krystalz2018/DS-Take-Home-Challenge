{
 "cells": [
  {
   "cell_type": "markdown",
   "id": "72735088",
   "metadata": {},
   "source": [
    "# Goal of Analysis:\n",
    "\n",
    "### Write an algorithm that return 10 most efficient stops covering the home address for all the employees and minimize the overall walking distance between employee homes and the bus stop"
   ]
  },
  {
   "cell_type": "code",
   "execution_count": 1,
   "id": "ca44aed7",
   "metadata": {},
   "outputs": [],
   "source": [
    "import pandas as pd\n",
    "import numpy as np\n",
    "import seaborn as sns\n",
    "import matplotlib.pyplot as plt\n",
    "import googlemaps\n",
    "\n",
    "import warnings\n",
    "warnings.filterwarnings('ignore')"
   ]
  },
  {
   "cell_type": "code",
   "execution_count": 2,
   "id": "4623e90e",
   "metadata": {},
   "outputs": [
    {
     "data": {
      "text/html": [
       "<div>\n",
       "<style scoped>\n",
       "    .dataframe tbody tr th:only-of-type {\n",
       "        vertical-align: middle;\n",
       "    }\n",
       "\n",
       "    .dataframe tbody tr th {\n",
       "        vertical-align: top;\n",
       "    }\n",
       "\n",
       "    .dataframe thead th {\n",
       "        text-align: right;\n",
       "    }\n",
       "</style>\n",
       "<table border=\"1\" class=\"dataframe\">\n",
       "  <thead>\n",
       "    <tr style=\"text-align: right;\">\n",
       "      <th></th>\n",
       "      <th>address</th>\n",
       "      <th>employee_id</th>\n",
       "    </tr>\n",
       "  </thead>\n",
       "  <tbody>\n",
       "    <tr>\n",
       "      <th>0</th>\n",
       "      <td>98 Edinburgh St, San Francisco, CA 94112, USA</td>\n",
       "      <td>206</td>\n",
       "    </tr>\n",
       "    <tr>\n",
       "      <th>1</th>\n",
       "      <td>237 Accacia St, Daly City, CA 94014, USA</td>\n",
       "      <td>2081</td>\n",
       "    </tr>\n",
       "    <tr>\n",
       "      <th>2</th>\n",
       "      <td>1835 Folsom St, San Francisco, CA 94103, USA</td>\n",
       "      <td>178</td>\n",
       "    </tr>\n",
       "    <tr>\n",
       "      <th>3</th>\n",
       "      <td>170 Cambridge St, San Francisco, CA 94134, USA</td>\n",
       "      <td>50</td>\n",
       "    </tr>\n",
       "    <tr>\n",
       "      <th>4</th>\n",
       "      <td>16 Roanoke St, San Francisco, CA 94131, USA</td>\n",
       "      <td>1863</td>\n",
       "    </tr>\n",
       "  </tbody>\n",
       "</table>\n",
       "</div>"
      ],
      "text/plain": [
       "                                          address  employee_id\n",
       "0   98 Edinburgh St, San Francisco, CA 94112, USA          206\n",
       "1        237 Accacia St, Daly City, CA 94014, USA         2081\n",
       "2    1835 Folsom St, San Francisco, CA 94103, USA          178\n",
       "3  170 Cambridge St, San Francisco, CA 94134, USA           50\n",
       "4     16 Roanoke St, San Francisco, CA 94131, USA         1863"
      ]
     },
     "execution_count": 2,
     "metadata": {},
     "output_type": "execute_result"
    }
   ],
   "source": [
    "address = pd.read_csv('Employee_Addresses.csv')\n",
    "address.head()"
   ]
  },
  {
   "cell_type": "code",
   "execution_count": 3,
   "id": "117d41f8",
   "metadata": {},
   "outputs": [
    {
     "data": {
      "text/html": [
       "<div>\n",
       "<style scoped>\n",
       "    .dataframe tbody tr th:only-of-type {\n",
       "        vertical-align: middle;\n",
       "    }\n",
       "\n",
       "    .dataframe tbody tr th {\n",
       "        vertical-align: top;\n",
       "    }\n",
       "\n",
       "    .dataframe thead th {\n",
       "        text-align: right;\n",
       "    }\n",
       "</style>\n",
       "<table border=\"1\" class=\"dataframe\">\n",
       "  <thead>\n",
       "    <tr style=\"text-align: right;\">\n",
       "      <th></th>\n",
       "      <th>Street_One</th>\n",
       "      <th>Street_Two</th>\n",
       "    </tr>\n",
       "  </thead>\n",
       "  <tbody>\n",
       "    <tr>\n",
       "      <th>0</th>\n",
       "      <td>MISSION ST</td>\n",
       "      <td>ITALY AVE</td>\n",
       "    </tr>\n",
       "    <tr>\n",
       "      <th>1</th>\n",
       "      <td>MISSION ST</td>\n",
       "      <td>NEW MONTGOMERY ST</td>\n",
       "    </tr>\n",
       "    <tr>\n",
       "      <th>2</th>\n",
       "      <td>MISSION ST</td>\n",
       "      <td>01ST ST</td>\n",
       "    </tr>\n",
       "    <tr>\n",
       "      <th>3</th>\n",
       "      <td>MISSION ST</td>\n",
       "      <td>20TH ST</td>\n",
       "    </tr>\n",
       "    <tr>\n",
       "      <th>4</th>\n",
       "      <td>MISSION ST</td>\n",
       "      <td>FREMONT ST</td>\n",
       "    </tr>\n",
       "  </tbody>\n",
       "</table>\n",
       "</div>"
      ],
      "text/plain": [
       "   Street_One         Street_Two\n",
       "0  MISSION ST          ITALY AVE\n",
       "1  MISSION ST  NEW MONTGOMERY ST\n",
       "2  MISSION ST            01ST ST\n",
       "3  MISSION ST            20TH ST\n",
       "4  MISSION ST         FREMONT ST"
      ]
     },
     "execution_count": 3,
     "metadata": {},
     "output_type": "execute_result"
    }
   ],
   "source": [
    "stops = pd.read_csv('Potentail_Bust_Stops.csv')\n",
    "stops.head()"
   ]
  },
  {
   "cell_type": "code",
   "execution_count": 4,
   "id": "271d47bb",
   "metadata": {},
   "outputs": [],
   "source": [
    "# get unique address and stop information\n",
    "\n",
    "unique_address = list(set(address['address']))\n",
    "\n",
    "def merge_stop(x):\n",
    "    return x[0] + ' & ' + x[1] + ' CA'\n",
    "\n",
    "unique_stop = list(set(stops.apply(merge_stop, axis=1)))"
   ]
  },
  {
   "cell_type": "code",
   "execution_count": 5,
   "id": "bf9c1c1b",
   "metadata": {},
   "outputs": [
    {
     "data": {
      "text/plain": [
       "['1142 Munich St, San Francisco, CA 94112, USA',\n",
       " '216 Whittier St, Daly City, CA 94014, USA',\n",
       " '742 Chenery St, San Francisco, CA 94131, USA',\n",
       " '69 Madison St, San Francisco, CA 94134, USA',\n",
       " '2044 Alemany Blvd, San Francisco, CA 94112, USA',\n",
       " '128 Elmira St, San Francisco, CA 94124, USA',\n",
       " '1390 Market St, San Francisco, CA 94102, USA',\n",
       " '410 Van Ness Ave, San Francisco, CA 94102, USA',\n",
       " '1669 Geneva Ave, San Francisco, CA 94134, USA',\n",
       " '1990 Quint St, San Francisco, CA 94124, USA']"
      ]
     },
     "execution_count": 5,
     "metadata": {},
     "output_type": "execute_result"
    }
   ],
   "source": [
    "unique_address[:10]"
   ]
  },
  {
   "cell_type": "code",
   "execution_count": 6,
   "id": "ad66b828",
   "metadata": {},
   "outputs": [
    {
     "data": {
      "text/plain": [
       "['MISSION ST & ITALY AVE CA',\n",
       " 'MISSION ST & THERESA ST CA',\n",
       " 'MISSION ST & 17TH ST CA',\n",
       " 'MISSION ST & YERBA BUENA LN CA',\n",
       " 'MISSION ST & JESSIE EAST ST CA',\n",
       " 'MISSION ST & 20TH ST CA',\n",
       " 'MISSION ST & NAGLEE AVE CA',\n",
       " 'MISSION ST & SAN JUAN AVE CA',\n",
       " 'MISSION ST & NIAGARA AVE CA',\n",
       " 'MISSION ST & OTTAWA AVE CA']"
      ]
     },
     "execution_count": 6,
     "metadata": {},
     "output_type": "execute_result"
    }
   ],
   "source": [
    "unique_stop[:10]"
   ]
  },
  {
   "cell_type": "markdown",
   "id": "8f960abf",
   "metadata": {},
   "source": [
    "Another way to get the unique stops we can have:"
   ]
  },
  {
   "cell_type": "code",
   "execution_count": 8,
   "id": "4ab094fb",
   "metadata": {},
   "outputs": [
    {
     "data": {
      "text/plain": [
       "16th st                              61\n",
       "geneva ave                           50\n",
       "alemany blvd                         46\n",
       "folsom st                            46\n",
       "mission st                           42\n",
       "                                     ..\n",
       "peabody st                            1\n",
       "adair st                              1\n",
       "van ness avenue, 100 van ness ave     1\n",
       "gennessee st                          1\n",
       "york st                               1\n",
       "Length: 266, dtype: int64"
      ]
     },
     "execution_count": 8,
     "metadata": {},
     "output_type": "execute_result"
    }
   ],
   "source": [
    "import re\n",
    "import csv\n",
    "from collections import Counter\n",
    "import numpy as np\n",
    "import pandas as pd\n",
    "import matplotlib.pyplot as plt\n",
    "plt.style.use('ggplot')\n",
    "\n",
    "pattern = re.compile(r\"(\\d+) (.+), (.+), CA (\\d+), USA\")\n",
    "\n",
    "class Employee(object):\n",
    "    def __init__(self,segments):\n",
    "        # address\n",
    "        matched = pattern.match(segments[0])\n",
    "        if matched is None:\n",
    "            raise Exception('format not supported')\n",
    "\n",
    "        self.building_no = int( matched.group(1) )\n",
    "        self.street = matched.group(2).lower()\n",
    "        self.city = matched.group(3)\n",
    "        self.zipcode = int( matched.group(4) )\n",
    "\n",
    "        # employee-id\n",
    "        self.id = int(segments[1])\n",
    "\n",
    "employees = []\n",
    "invalid_employees = []\n",
    "\n",
    "address_file = \"Employee_Addresses.csv\"\n",
    "with open(address_file,\"rt\") as inf:\n",
    "    reader = csv.reader(inf)\n",
    "    for segments in reader:\n",
    "        try:\n",
    "            employees.append(Employee(segments))\n",
    "        except:\n",
    "            invalid_employees.append(segments[0])\n",
    "\n",
    "\n",
    "            \n",
    "streets_counter = Counter((e.street for e in employees))\n",
    "streets_counts = pd.Series(streets_counter)\n",
    "streets_counts.sort_values(ascending=False)"
   ]
  },
  {
   "cell_type": "markdown",
   "id": "dddbd59f",
   "metadata": {},
   "source": [
    "Next step would be to use googlemap to measure the distance to see if they are the closest stops we can have, but the service is a charged service, therefore I cannot directly show it. The basic idea is to query the distance between the address and the closest stop and then add them up to find the minimum measure."
   ]
  },
  {
   "cell_type": "code",
   "execution_count": null,
   "id": "023565d9",
   "metadata": {},
   "outputs": [],
   "source": []
  }
 ],
 "metadata": {
  "kernelspec": {
   "display_name": "Python 3 (ipykernel)",
   "language": "python",
   "name": "python3"
  },
  "language_info": {
   "codemirror_mode": {
    "name": "ipython",
    "version": 3
   },
   "file_extension": ".py",
   "mimetype": "text/x-python",
   "name": "python",
   "nbconvert_exporter": "python",
   "pygments_lexer": "ipython3",
   "version": "3.9.12"
  }
 },
 "nbformat": 4,
 "nbformat_minor": 5
}
