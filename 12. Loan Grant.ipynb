{
 "cells": [
  {
   "cell_type": "markdown",
   "metadata": {},
   "source": [
    "# Goal of Analysis:\n",
    "\n",
    "### 1. Train a model to predict whether the loan will be repaid or not\n",
    "\n",
    "### 2. What are the most important variables on the prediction?\n",
    "\n",
    "### 3. Are there any other variables, not in the data provided, that you'd have liked to include in the model?"
   ]
  },
  {
   "cell_type": "markdown",
   "metadata": {},
   "source": [
    "### Part 1: Load Data"
   ]
  },
  {
   "cell_type": "code",
   "execution_count": 1,
   "metadata": {},
   "outputs": [],
   "source": [
    "import warnings\n",
    "warnings.filterwarnings('ignore')\n",
    "\n",
    "import numpy as np\n",
    "import pandas as pd\n",
    "import seaborn as sns\n",
    "import matplotlib.pyplot as plt\n",
    "from sklearn.preprocessing import LabelEncoder\n",
    "from sklearn.model_selection import train_test_split\n",
    "import lightgbm as lgb\n",
    "\n",
    "%matplotlib inline"
   ]
  },
  {
   "cell_type": "code",
   "execution_count": 2,
   "metadata": {},
   "outputs": [
    {
     "data": {
      "text/html": [
       "<div>\n",
       "<style scoped>\n",
       "    .dataframe tbody tr th:only-of-type {\n",
       "        vertical-align: middle;\n",
       "    }\n",
       "\n",
       "    .dataframe tbody tr th {\n",
       "        vertical-align: top;\n",
       "    }\n",
       "\n",
       "    .dataframe thead th {\n",
       "        text-align: right;\n",
       "    }\n",
       "</style>\n",
       "<table border=\"1\" class=\"dataframe\">\n",
       "  <thead>\n",
       "    <tr style=\"text-align: right;\">\n",
       "      <th></th>\n",
       "      <th>loan_id</th>\n",
       "      <th>loan_purpose</th>\n",
       "      <th>date</th>\n",
       "      <th>loan_granted</th>\n",
       "      <th>loan_repaid</th>\n",
       "    </tr>\n",
       "  </thead>\n",
       "  <tbody>\n",
       "    <tr>\n",
       "      <th>0</th>\n",
       "      <td>19454</td>\n",
       "      <td>investment</td>\n",
       "      <td>2012-03-15</td>\n",
       "      <td>0</td>\n",
       "      <td>NaN</td>\n",
       "    </tr>\n",
       "    <tr>\n",
       "      <th>1</th>\n",
       "      <td>496811</td>\n",
       "      <td>investment</td>\n",
       "      <td>2012-01-17</td>\n",
       "      <td>0</td>\n",
       "      <td>NaN</td>\n",
       "    </tr>\n",
       "    <tr>\n",
       "      <th>2</th>\n",
       "      <td>929493</td>\n",
       "      <td>other</td>\n",
       "      <td>2012-02-09</td>\n",
       "      <td>0</td>\n",
       "      <td>NaN</td>\n",
       "    </tr>\n",
       "    <tr>\n",
       "      <th>3</th>\n",
       "      <td>580653</td>\n",
       "      <td>other</td>\n",
       "      <td>2012-06-27</td>\n",
       "      <td>1</td>\n",
       "      <td>1.0</td>\n",
       "    </tr>\n",
       "    <tr>\n",
       "      <th>4</th>\n",
       "      <td>172419</td>\n",
       "      <td>business</td>\n",
       "      <td>2012-05-21</td>\n",
       "      <td>1</td>\n",
       "      <td>0.0</td>\n",
       "    </tr>\n",
       "  </tbody>\n",
       "</table>\n",
       "</div>"
      ],
      "text/plain": [
       "   loan_id loan_purpose       date  loan_granted  loan_repaid\n",
       "0    19454   investment 2012-03-15             0          NaN\n",
       "1   496811   investment 2012-01-17             0          NaN\n",
       "2   929493        other 2012-02-09             0          NaN\n",
       "3   580653        other 2012-06-27             1          1.0\n",
       "4   172419     business 2012-05-21             1          0.0"
      ]
     },
     "execution_count": 2,
     "metadata": {},
     "output_type": "execute_result"
    }
   ],
   "source": [
    "loan = pd.read_csv('loan_table.csv', parse_dates = ['date'])\n",
    "loan.head()"
   ]
  },
  {
   "cell_type": "code",
   "execution_count": 3,
   "metadata": {},
   "outputs": [
    {
     "name": "stdout",
     "output_type": "stream",
     "text": [
      "<class 'pandas.core.frame.DataFrame'>\n",
      "RangeIndex: 101100 entries, 0 to 101099\n",
      "Data columns (total 5 columns):\n",
      " #   Column        Non-Null Count   Dtype         \n",
      "---  ------        --------------   -----         \n",
      " 0   loan_id       101100 non-null  int64         \n",
      " 1   loan_purpose  101100 non-null  object        \n",
      " 2   date          101100 non-null  datetime64[ns]\n",
      " 3   loan_granted  101100 non-null  int64         \n",
      " 4   loan_repaid   47654 non-null   float64       \n",
      "dtypes: datetime64[ns](1), float64(1), int64(2), object(1)\n",
      "memory usage: 3.9+ MB\n"
     ]
    }
   ],
   "source": [
    "loan.info()"
   ]
  },
  {
   "cell_type": "code",
   "execution_count": 4,
   "metadata": {},
   "outputs": [
    {
     "data": {
      "text/html": [
       "<div>\n",
       "<style scoped>\n",
       "    .dataframe tbody tr th:only-of-type {\n",
       "        vertical-align: middle;\n",
       "    }\n",
       "\n",
       "    .dataframe tbody tr th {\n",
       "        vertical-align: top;\n",
       "    }\n",
       "\n",
       "    .dataframe thead th {\n",
       "        text-align: right;\n",
       "    }\n",
       "</style>\n",
       "<table border=\"1\" class=\"dataframe\">\n",
       "  <thead>\n",
       "    <tr style=\"text-align: right;\">\n",
       "      <th></th>\n",
       "      <th>loan_id</th>\n",
       "      <th>is_first_loan</th>\n",
       "      <th>fully_repaid_previous_loans</th>\n",
       "      <th>currently_repaying_other_loans</th>\n",
       "      <th>total_credit_card_limit</th>\n",
       "      <th>avg_percentage_credit_card_limit_used_last_year</th>\n",
       "      <th>saving_amount</th>\n",
       "      <th>checking_amount</th>\n",
       "      <th>is_employed</th>\n",
       "      <th>yearly_salary</th>\n",
       "      <th>age</th>\n",
       "      <th>dependent_number</th>\n",
       "    </tr>\n",
       "  </thead>\n",
       "  <tbody>\n",
       "    <tr>\n",
       "      <th>0</th>\n",
       "      <td>289774</td>\n",
       "      <td>1</td>\n",
       "      <td>NaN</td>\n",
       "      <td>NaN</td>\n",
       "      <td>8000</td>\n",
       "      <td>0.49</td>\n",
       "      <td>3285</td>\n",
       "      <td>1073</td>\n",
       "      <td>0</td>\n",
       "      <td>0</td>\n",
       "      <td>47</td>\n",
       "      <td>3</td>\n",
       "    </tr>\n",
       "    <tr>\n",
       "      <th>1</th>\n",
       "      <td>482590</td>\n",
       "      <td>0</td>\n",
       "      <td>1.0</td>\n",
       "      <td>0.0</td>\n",
       "      <td>4500</td>\n",
       "      <td>1.03</td>\n",
       "      <td>636</td>\n",
       "      <td>5299</td>\n",
       "      <td>1</td>\n",
       "      <td>13500</td>\n",
       "      <td>33</td>\n",
       "      <td>1</td>\n",
       "    </tr>\n",
       "    <tr>\n",
       "      <th>2</th>\n",
       "      <td>135565</td>\n",
       "      <td>1</td>\n",
       "      <td>NaN</td>\n",
       "      <td>NaN</td>\n",
       "      <td>6900</td>\n",
       "      <td>0.82</td>\n",
       "      <td>2085</td>\n",
       "      <td>3422</td>\n",
       "      <td>1</td>\n",
       "      <td>24500</td>\n",
       "      <td>38</td>\n",
       "      <td>8</td>\n",
       "    </tr>\n",
       "    <tr>\n",
       "      <th>3</th>\n",
       "      <td>207797</td>\n",
       "      <td>0</td>\n",
       "      <td>1.0</td>\n",
       "      <td>0.0</td>\n",
       "      <td>1200</td>\n",
       "      <td>0.82</td>\n",
       "      <td>358</td>\n",
       "      <td>3388</td>\n",
       "      <td>0</td>\n",
       "      <td>0</td>\n",
       "      <td>24</td>\n",
       "      <td>1</td>\n",
       "    </tr>\n",
       "    <tr>\n",
       "      <th>4</th>\n",
       "      <td>828078</td>\n",
       "      <td>0</td>\n",
       "      <td>0.0</td>\n",
       "      <td>0.0</td>\n",
       "      <td>6900</td>\n",
       "      <td>0.80</td>\n",
       "      <td>2138</td>\n",
       "      <td>4282</td>\n",
       "      <td>1</td>\n",
       "      <td>18100</td>\n",
       "      <td>36</td>\n",
       "      <td>1</td>\n",
       "    </tr>\n",
       "  </tbody>\n",
       "</table>\n",
       "</div>"
      ],
      "text/plain": [
       "   loan_id  is_first_loan  fully_repaid_previous_loans  \\\n",
       "0   289774              1                          NaN   \n",
       "1   482590              0                          1.0   \n",
       "2   135565              1                          NaN   \n",
       "3   207797              0                          1.0   \n",
       "4   828078              0                          0.0   \n",
       "\n",
       "   currently_repaying_other_loans  total_credit_card_limit  \\\n",
       "0                             NaN                     8000   \n",
       "1                             0.0                     4500   \n",
       "2                             NaN                     6900   \n",
       "3                             0.0                     1200   \n",
       "4                             0.0                     6900   \n",
       "\n",
       "   avg_percentage_credit_card_limit_used_last_year  saving_amount  \\\n",
       "0                                             0.49           3285   \n",
       "1                                             1.03            636   \n",
       "2                                             0.82           2085   \n",
       "3                                             0.82            358   \n",
       "4                                             0.80           2138   \n",
       "\n",
       "   checking_amount  is_employed  yearly_salary  age  dependent_number  \n",
       "0             1073            0              0   47                 3  \n",
       "1             5299            1          13500   33                 1  \n",
       "2             3422            1          24500   38                 8  \n",
       "3             3388            0              0   24                 1  \n",
       "4             4282            1          18100   36                 1  "
      ]
     },
     "execution_count": 4,
     "metadata": {},
     "output_type": "execute_result"
    }
   ],
   "source": [
    "borrower = pd.read_csv('borrower_table.csv')\n",
    "borrower.head()"
   ]
  },
  {
   "cell_type": "code",
   "execution_count": 5,
   "metadata": {},
   "outputs": [
    {
     "name": "stdout",
     "output_type": "stream",
     "text": [
      "<class 'pandas.core.frame.DataFrame'>\n",
      "RangeIndex: 101100 entries, 0 to 101099\n",
      "Data columns (total 12 columns):\n",
      " #   Column                                           Non-Null Count   Dtype  \n",
      "---  ------                                           --------------   -----  \n",
      " 0   loan_id                                          101100 non-null  int64  \n",
      " 1   is_first_loan                                    101100 non-null  int64  \n",
      " 2   fully_repaid_previous_loans                      46153 non-null   float64\n",
      " 3   currently_repaying_other_loans                   46153 non-null   float64\n",
      " 4   total_credit_card_limit                          101100 non-null  int64  \n",
      " 5   avg_percentage_credit_card_limit_used_last_year  94128 non-null   float64\n",
      " 6   saving_amount                                    101100 non-null  int64  \n",
      " 7   checking_amount                                  101100 non-null  int64  \n",
      " 8   is_employed                                      101100 non-null  int64  \n",
      " 9   yearly_salary                                    101100 non-null  int64  \n",
      " 10  age                                              101100 non-null  int64  \n",
      " 11  dependent_number                                 101100 non-null  int64  \n",
      "dtypes: float64(3), int64(9)\n",
      "memory usage: 9.3 MB\n"
     ]
    }
   ],
   "source": [
    "borrower.info()"
   ]
  },
  {
   "cell_type": "code",
   "execution_count": 6,
   "metadata": {},
   "outputs": [
    {
     "data": {
      "text/html": [
       "<div>\n",
       "<style scoped>\n",
       "    .dataframe tbody tr th:only-of-type {\n",
       "        vertical-align: middle;\n",
       "    }\n",
       "\n",
       "    .dataframe tbody tr th {\n",
       "        vertical-align: top;\n",
       "    }\n",
       "\n",
       "    .dataframe thead th {\n",
       "        text-align: right;\n",
       "    }\n",
       "</style>\n",
       "<table border=\"1\" class=\"dataframe\">\n",
       "  <thead>\n",
       "    <tr style=\"text-align: right;\">\n",
       "      <th></th>\n",
       "      <th>loan_id</th>\n",
       "      <th>loan_purpose</th>\n",
       "      <th>date</th>\n",
       "      <th>loan_granted</th>\n",
       "      <th>loan_repaid</th>\n",
       "      <th>is_first_loan</th>\n",
       "      <th>fully_repaid_previous_loans</th>\n",
       "      <th>currently_repaying_other_loans</th>\n",
       "      <th>total_credit_card_limit</th>\n",
       "      <th>avg_percentage_credit_card_limit_used_last_year</th>\n",
       "      <th>saving_amount</th>\n",
       "      <th>checking_amount</th>\n",
       "      <th>is_employed</th>\n",
       "      <th>yearly_salary</th>\n",
       "      <th>age</th>\n",
       "      <th>dependent_number</th>\n",
       "    </tr>\n",
       "  </thead>\n",
       "  <tbody>\n",
       "    <tr>\n",
       "      <th>3</th>\n",
       "      <td>580653</td>\n",
       "      <td>other</td>\n",
       "      <td>2012-06-27</td>\n",
       "      <td>1</td>\n",
       "      <td>1.0</td>\n",
       "      <td>0</td>\n",
       "      <td>1.0</td>\n",
       "      <td>0.0</td>\n",
       "      <td>5400</td>\n",
       "      <td>0.52</td>\n",
       "      <td>3345</td>\n",
       "      <td>2764</td>\n",
       "      <td>1</td>\n",
       "      <td>15800</td>\n",
       "      <td>58</td>\n",
       "      <td>4</td>\n",
       "    </tr>\n",
       "    <tr>\n",
       "      <th>4</th>\n",
       "      <td>172419</td>\n",
       "      <td>business</td>\n",
       "      <td>2012-05-21</td>\n",
       "      <td>1</td>\n",
       "      <td>0.0</td>\n",
       "      <td>1</td>\n",
       "      <td>NaN</td>\n",
       "      <td>NaN</td>\n",
       "      <td>2900</td>\n",
       "      <td>0.76</td>\n",
       "      <td>1050</td>\n",
       "      <td>3695</td>\n",
       "      <td>1</td>\n",
       "      <td>34800</td>\n",
       "      <td>31</td>\n",
       "      <td>4</td>\n",
       "    </tr>\n",
       "    <tr>\n",
       "      <th>6</th>\n",
       "      <td>780070</td>\n",
       "      <td>business</td>\n",
       "      <td>2012-03-14</td>\n",
       "      <td>1</td>\n",
       "      <td>1.0</td>\n",
       "      <td>0</td>\n",
       "      <td>1.0</td>\n",
       "      <td>0.0</td>\n",
       "      <td>7800</td>\n",
       "      <td>0.30</td>\n",
       "      <td>4206</td>\n",
       "      <td>4368</td>\n",
       "      <td>1</td>\n",
       "      <td>51100</td>\n",
       "      <td>51</td>\n",
       "      <td>2</td>\n",
       "    </tr>\n",
       "    <tr>\n",
       "      <th>7</th>\n",
       "      <td>303138</td>\n",
       "      <td>emergency_funds</td>\n",
       "      <td>2012-08-31</td>\n",
       "      <td>1</td>\n",
       "      <td>0.0</td>\n",
       "      <td>0</td>\n",
       "      <td>0.0</td>\n",
       "      <td>1.0</td>\n",
       "      <td>4300</td>\n",
       "      <td>1.02</td>\n",
       "      <td>886</td>\n",
       "      <td>1597</td>\n",
       "      <td>1</td>\n",
       "      <td>15000</td>\n",
       "      <td>59</td>\n",
       "      <td>2</td>\n",
       "    </tr>\n",
       "    <tr>\n",
       "      <th>8</th>\n",
       "      <td>91475</td>\n",
       "      <td>investment</td>\n",
       "      <td>2012-05-25</td>\n",
       "      <td>1</td>\n",
       "      <td>1.0</td>\n",
       "      <td>0</td>\n",
       "      <td>1.0</td>\n",
       "      <td>0.0</td>\n",
       "      <td>3900</td>\n",
       "      <td>0.65</td>\n",
       "      <td>1837</td>\n",
       "      <td>3795</td>\n",
       "      <td>1</td>\n",
       "      <td>12000</td>\n",
       "      <td>24</td>\n",
       "      <td>1</td>\n",
       "    </tr>\n",
       "  </tbody>\n",
       "</table>\n",
       "</div>"
      ],
      "text/plain": [
       "   loan_id     loan_purpose       date  loan_granted  loan_repaid  \\\n",
       "3   580653            other 2012-06-27             1          1.0   \n",
       "4   172419         business 2012-05-21             1          0.0   \n",
       "6   780070         business 2012-03-14             1          1.0   \n",
       "7   303138  emergency_funds 2012-08-31             1          0.0   \n",
       "8    91475       investment 2012-05-25             1          1.0   \n",
       "\n",
       "   is_first_loan  fully_repaid_previous_loans  currently_repaying_other_loans  \\\n",
       "3              0                          1.0                             0.0   \n",
       "4              1                          NaN                             NaN   \n",
       "6              0                          1.0                             0.0   \n",
       "7              0                          0.0                             1.0   \n",
       "8              0                          1.0                             0.0   \n",
       "\n",
       "   total_credit_card_limit  avg_percentage_credit_card_limit_used_last_year  \\\n",
       "3                     5400                                             0.52   \n",
       "4                     2900                                             0.76   \n",
       "6                     7800                                             0.30   \n",
       "7                     4300                                             1.02   \n",
       "8                     3900                                             0.65   \n",
       "\n",
       "   saving_amount  checking_amount  is_employed  yearly_salary  age  \\\n",
       "3           3345             2764            1          15800   58   \n",
       "4           1050             3695            1          34800   31   \n",
       "6           4206             4368            1          51100   51   \n",
       "7            886             1597            1          15000   59   \n",
       "8           1837             3795            1          12000   24   \n",
       "\n",
       "   dependent_number  \n",
       "3                 4  \n",
       "4                 4  \n",
       "6                 2  \n",
       "7                 2  \n",
       "8                 1  "
      ]
     },
     "execution_count": 6,
     "metadata": {},
     "output_type": "execute_result"
    }
   ],
   "source": [
    "# in order to see the situation of loan repaid, we only filter the data which the loan was granted\n",
    "\n",
    "data = pd.merge(left = loan, right = borrower, on = 'loan_id')\n",
    "data = data[data['loan_granted']==1]\n",
    "\n",
    "data.head()"
   ]
  },
  {
   "cell_type": "code",
   "execution_count": 7,
   "metadata": {},
   "outputs": [
    {
     "name": "stdout",
     "output_type": "stream",
     "text": [
      "<class 'pandas.core.frame.DataFrame'>\n",
      "Int64Index: 47654 entries, 3 to 101098\n",
      "Data columns (total 16 columns):\n",
      " #   Column                                           Non-Null Count  Dtype         \n",
      "---  ------                                           --------------  -----         \n",
      " 0   loan_id                                          47654 non-null  int64         \n",
      " 1   loan_purpose                                     47654 non-null  object        \n",
      " 2   date                                             47654 non-null  datetime64[ns]\n",
      " 3   loan_granted                                     47654 non-null  int64         \n",
      " 4   loan_repaid                                      47654 non-null  float64       \n",
      " 5   is_first_loan                                    47654 non-null  int64         \n",
      " 6   fully_repaid_previous_loans                      21865 non-null  float64       \n",
      " 7   currently_repaying_other_loans                   21865 non-null  float64       \n",
      " 8   total_credit_card_limit                          47654 non-null  int64         \n",
      " 9   avg_percentage_credit_card_limit_used_last_year  46751 non-null  float64       \n",
      " 10  saving_amount                                    47654 non-null  int64         \n",
      " 11  checking_amount                                  47654 non-null  int64         \n",
      " 12  is_employed                                      47654 non-null  int64         \n",
      " 13  yearly_salary                                    47654 non-null  int64         \n",
      " 14  age                                              47654 non-null  int64         \n",
      " 15  dependent_number                                 47654 non-null  int64         \n",
      "dtypes: datetime64[ns](1), float64(4), int64(10), object(1)\n",
      "memory usage: 6.2+ MB\n"
     ]
    }
   ],
   "source": [
    "data.info()"
   ]
  },
  {
   "cell_type": "code",
   "execution_count": 8,
   "metadata": {},
   "outputs": [
    {
     "data": {
      "text/plain": [
       "fully_repaid_previous_loans                        25789\n",
       "currently_repaying_other_loans                     25789\n",
       "avg_percentage_credit_card_limit_used_last_year      903\n",
       "loan_id                                                0\n",
       "loan_purpose                                           0\n",
       "date                                                   0\n",
       "loan_granted                                           0\n",
       "loan_repaid                                            0\n",
       "is_first_loan                                          0\n",
       "total_credit_card_limit                                0\n",
       "saving_amount                                          0\n",
       "checking_amount                                        0\n",
       "is_employed                                            0\n",
       "yearly_salary                                          0\n",
       "age                                                    0\n",
       "dependent_number                                       0\n",
       "dtype: int64"
      ]
     },
     "execution_count": 8,
     "metadata": {},
     "output_type": "execute_result"
    }
   ],
   "source": [
    "missing = data.isnull().sum()\n",
    "missing.sort_values(ascending=False)"
   ]
  },
  {
   "cell_type": "markdown",
   "metadata": {},
   "source": [
    "The missing values are mostly associated with loan repaid and credit limit."
   ]
  },
  {
   "cell_type": "markdown",
   "metadata": {},
   "source": [
    "### Part 2: Data Preprocess"
   ]
  },
  {
   "cell_type": "code",
   "execution_count": 9,
   "metadata": {},
   "outputs": [],
   "source": [
    "# dealing with the date and month\n",
    "\n",
    "data['month'] = data['date'].apply(lambda x: x.month)\n",
    "data['week'] = data['date'].apply(lambda x: x.week)\n",
    "data['dayofweek'] = data['date'].apply(lambda x: x.dayofweek)\n",
    "\n",
    "data = data.drop(labels=['loan_id','date','loan_granted'],axis = 1, inplace = False)"
   ]
  },
  {
   "cell_type": "code",
   "execution_count": 10,
   "metadata": {},
   "outputs": [],
   "source": [
    "# fill null values\n",
    "\n",
    "median = data['avg_percentage_credit_card_limit_used_last_year'].median()\n",
    "data = data.fillna({'avg_percentage_credit_card_limit_used_last_year':median})\n",
    "\n",
    "data = data.fillna({'fully_repaid_previous_loans': -1, 'currently_repaying_other_loans': -1})"
   ]
  },
  {
   "cell_type": "code",
   "execution_count": 11,
   "metadata": {},
   "outputs": [
    {
     "data": {
      "text/html": [
       "<div>\n",
       "<style scoped>\n",
       "    .dataframe tbody tr th:only-of-type {\n",
       "        vertical-align: middle;\n",
       "    }\n",
       "\n",
       "    .dataframe tbody tr th {\n",
       "        vertical-align: top;\n",
       "    }\n",
       "\n",
       "    .dataframe thead th {\n",
       "        text-align: right;\n",
       "    }\n",
       "</style>\n",
       "<table border=\"1\" class=\"dataframe\">\n",
       "  <thead>\n",
       "    <tr style=\"text-align: right;\">\n",
       "      <th></th>\n",
       "      <th>loan_purpose</th>\n",
       "      <th>loan_repaid</th>\n",
       "      <th>is_first_loan</th>\n",
       "      <th>fully_repaid_previous_loans</th>\n",
       "      <th>currently_repaying_other_loans</th>\n",
       "      <th>total_credit_card_limit</th>\n",
       "      <th>avg_percentage_credit_card_limit_used_last_year</th>\n",
       "      <th>saving_amount</th>\n",
       "      <th>checking_amount</th>\n",
       "      <th>is_employed</th>\n",
       "      <th>yearly_salary</th>\n",
       "      <th>age</th>\n",
       "      <th>dependent_number</th>\n",
       "    </tr>\n",
       "  </thead>\n",
       "  <tbody>\n",
       "    <tr>\n",
       "      <th>3</th>\n",
       "      <td>other</td>\n",
       "      <td>1.0</td>\n",
       "      <td>0</td>\n",
       "      <td>1.0</td>\n",
       "      <td>0.0</td>\n",
       "      <td>5400</td>\n",
       "      <td>0.52</td>\n",
       "      <td>3345</td>\n",
       "      <td>2764</td>\n",
       "      <td>1</td>\n",
       "      <td>15800</td>\n",
       "      <td>58</td>\n",
       "      <td>4</td>\n",
       "    </tr>\n",
       "    <tr>\n",
       "      <th>4</th>\n",
       "      <td>business</td>\n",
       "      <td>0.0</td>\n",
       "      <td>1</td>\n",
       "      <td>-1.0</td>\n",
       "      <td>-1.0</td>\n",
       "      <td>2900</td>\n",
       "      <td>0.76</td>\n",
       "      <td>1050</td>\n",
       "      <td>3695</td>\n",
       "      <td>1</td>\n",
       "      <td>34800</td>\n",
       "      <td>31</td>\n",
       "      <td>4</td>\n",
       "    </tr>\n",
       "    <tr>\n",
       "      <th>6</th>\n",
       "      <td>business</td>\n",
       "      <td>1.0</td>\n",
       "      <td>0</td>\n",
       "      <td>1.0</td>\n",
       "      <td>0.0</td>\n",
       "      <td>7800</td>\n",
       "      <td>0.30</td>\n",
       "      <td>4206</td>\n",
       "      <td>4368</td>\n",
       "      <td>1</td>\n",
       "      <td>51100</td>\n",
       "      <td>51</td>\n",
       "      <td>2</td>\n",
       "    </tr>\n",
       "    <tr>\n",
       "      <th>7</th>\n",
       "      <td>emergency_funds</td>\n",
       "      <td>0.0</td>\n",
       "      <td>0</td>\n",
       "      <td>0.0</td>\n",
       "      <td>1.0</td>\n",
       "      <td>4300</td>\n",
       "      <td>1.02</td>\n",
       "      <td>886</td>\n",
       "      <td>1597</td>\n",
       "      <td>1</td>\n",
       "      <td>15000</td>\n",
       "      <td>59</td>\n",
       "      <td>2</td>\n",
       "    </tr>\n",
       "    <tr>\n",
       "      <th>8</th>\n",
       "      <td>investment</td>\n",
       "      <td>1.0</td>\n",
       "      <td>0</td>\n",
       "      <td>1.0</td>\n",
       "      <td>0.0</td>\n",
       "      <td>3900</td>\n",
       "      <td>0.65</td>\n",
       "      <td>1837</td>\n",
       "      <td>3795</td>\n",
       "      <td>1</td>\n",
       "      <td>12000</td>\n",
       "      <td>24</td>\n",
       "      <td>1</td>\n",
       "    </tr>\n",
       "  </tbody>\n",
       "</table>\n",
       "</div>"
      ],
      "text/plain": [
       "      loan_purpose  loan_repaid  is_first_loan  fully_repaid_previous_loans  \\\n",
       "3            other          1.0              0                          1.0   \n",
       "4         business          0.0              1                         -1.0   \n",
       "6         business          1.0              0                          1.0   \n",
       "7  emergency_funds          0.0              0                          0.0   \n",
       "8       investment          1.0              0                          1.0   \n",
       "\n",
       "   currently_repaying_other_loans  total_credit_card_limit  \\\n",
       "3                             0.0                     5400   \n",
       "4                            -1.0                     2900   \n",
       "6                             0.0                     7800   \n",
       "7                             1.0                     4300   \n",
       "8                             0.0                     3900   \n",
       "\n",
       "   avg_percentage_credit_card_limit_used_last_year  saving_amount  \\\n",
       "3                                             0.52           3345   \n",
       "4                                             0.76           1050   \n",
       "6                                             0.30           4206   \n",
       "7                                             1.02            886   \n",
       "8                                             0.65           1837   \n",
       "\n",
       "   checking_amount  is_employed  yearly_salary  age  dependent_number  \n",
       "3             2764            1          15800   58                 4  \n",
       "4             3695            1          34800   31                 4  \n",
       "6             4368            1          51100   51                 2  \n",
       "7             1597            1          15000   59                 2  \n",
       "8             3795            1          12000   24                 1  "
      ]
     },
     "execution_count": 11,
     "metadata": {},
     "output_type": "execute_result"
    }
   ],
   "source": [
    "data = data.drop(labels=['month','week','dayofweek'], axis = 1, inplace = False)\n",
    "data.head()"
   ]
  },
  {
   "cell_type": "code",
   "execution_count": 12,
   "metadata": {
    "scrolled": true
   },
   "outputs": [
    {
     "data": {
      "image/png": "[encoded data removed]",
      "text/plain": [
       "<Figure size 864x720 with 2 Axes>"
      ]
     },
     "metadata": {
      "needs_background": "light"
     },
     "output_type": "display_data"
    }
   ],
   "source": [
    "fig, ax = plt.subplots(figsize=(12,10))\n",
    "sns.heatmap(data.corr(),ax=ax)\n",
    "plt.show()"
   ]
  },
  {
   "cell_type": "markdown",
   "metadata": {},
   "source": [
    "We can take a look at the correlation chart, loans are basically have higher correlation with credit limit."
   ]
  },
  {
   "cell_type": "markdown",
   "metadata": {},
   "source": [
    "#### In order to fit the model, I need to use labelencoder or one hot encoder to transform the data."
   ]
  },
  {
   "cell_type": "code",
   "execution_count": 13,
   "metadata": {},
   "outputs": [
    {
     "data": {
      "text/html": [
       "<div>\n",
       "<style scoped>\n",
       "    .dataframe tbody tr th:only-of-type {\n",
       "        vertical-align: middle;\n",
       "    }\n",
       "\n",
       "    .dataframe tbody tr th {\n",
       "        vertical-align: top;\n",
       "    }\n",
       "\n",
       "    .dataframe thead th {\n",
       "        text-align: right;\n",
       "    }\n",
       "</style>\n",
       "<table border=\"1\" class=\"dataframe\">\n",
       "  <thead>\n",
       "    <tr style=\"text-align: right;\">\n",
       "      <th></th>\n",
       "      <th>loan_purpose</th>\n",
       "      <th>loan_repaid</th>\n",
       "      <th>is_first_loan</th>\n",
       "      <th>fully_repaid_previous_loans</th>\n",
       "      <th>currently_repaying_other_loans</th>\n",
       "      <th>total_credit_card_limit</th>\n",
       "      <th>avg_percentage_credit_card_limit_used_last_year</th>\n",
       "      <th>saving_amount</th>\n",
       "      <th>checking_amount</th>\n",
       "      <th>is_employed</th>\n",
       "      <th>yearly_salary</th>\n",
       "      <th>age</th>\n",
       "      <th>dependent_number</th>\n",
       "    </tr>\n",
       "  </thead>\n",
       "  <tbody>\n",
       "    <tr>\n",
       "      <th>3</th>\n",
       "      <td>4</td>\n",
       "      <td>1.0</td>\n",
       "      <td>0</td>\n",
       "      <td>1.0</td>\n",
       "      <td>0.0</td>\n",
       "      <td>5400</td>\n",
       "      <td>0.52</td>\n",
       "      <td>3345</td>\n",
       "      <td>2764</td>\n",
       "      <td>1</td>\n",
       "      <td>15800</td>\n",
       "      <td>58</td>\n",
       "      <td>4</td>\n",
       "    </tr>\n",
       "    <tr>\n",
       "      <th>4</th>\n",
       "      <td>0</td>\n",
       "      <td>0.0</td>\n",
       "      <td>1</td>\n",
       "      <td>-1.0</td>\n",
       "      <td>-1.0</td>\n",
       "      <td>2900</td>\n",
       "      <td>0.76</td>\n",
       "      <td>1050</td>\n",
       "      <td>3695</td>\n",
       "      <td>1</td>\n",
       "      <td>34800</td>\n",
       "      <td>31</td>\n",
       "      <td>4</td>\n",
       "    </tr>\n",
       "    <tr>\n",
       "      <th>6</th>\n",
       "      <td>0</td>\n",
       "      <td>1.0</td>\n",
       "      <td>0</td>\n",
       "      <td>1.0</td>\n",
       "      <td>0.0</td>\n",
       "      <td>7800</td>\n",
       "      <td>0.30</td>\n",
       "      <td>4206</td>\n",
       "      <td>4368</td>\n",
       "      <td>1</td>\n",
       "      <td>51100</td>\n",
       "      <td>51</td>\n",
       "      <td>2</td>\n",
       "    </tr>\n",
       "    <tr>\n",
       "      <th>7</th>\n",
       "      <td>1</td>\n",
       "      <td>0.0</td>\n",
       "      <td>0</td>\n",
       "      <td>0.0</td>\n",
       "      <td>1.0</td>\n",
       "      <td>4300</td>\n",
       "      <td>1.02</td>\n",
       "      <td>886</td>\n",
       "      <td>1597</td>\n",
       "      <td>1</td>\n",
       "      <td>15000</td>\n",
       "      <td>59</td>\n",
       "      <td>2</td>\n",
       "    </tr>\n",
       "    <tr>\n",
       "      <th>8</th>\n",
       "      <td>3</td>\n",
       "      <td>1.0</td>\n",
       "      <td>0</td>\n",
       "      <td>1.0</td>\n",
       "      <td>0.0</td>\n",
       "      <td>3900</td>\n",
       "      <td>0.65</td>\n",
       "      <td>1837</td>\n",
       "      <td>3795</td>\n",
       "      <td>1</td>\n",
       "      <td>12000</td>\n",
       "      <td>24</td>\n",
       "      <td>1</td>\n",
       "    </tr>\n",
       "  </tbody>\n",
       "</table>\n",
       "</div>"
      ],
      "text/plain": [
       "   loan_purpose  loan_repaid  is_first_loan  fully_repaid_previous_loans  \\\n",
       "3             4          1.0              0                          1.0   \n",
       "4             0          0.0              1                         -1.0   \n",
       "6             0          1.0              0                          1.0   \n",
       "7             1          0.0              0                          0.0   \n",
       "8             3          1.0              0                          1.0   \n",
       "\n",
       "   currently_repaying_other_loans  total_credit_card_limit  \\\n",
       "3                             0.0                     5400   \n",
       "4                            -1.0                     2900   \n",
       "6                             0.0                     7800   \n",
       "7                             1.0                     4300   \n",
       "8                             0.0                     3900   \n",
       "\n",
       "   avg_percentage_credit_card_limit_used_last_year  saving_amount  \\\n",
       "3                                             0.52           3345   \n",
       "4                                             0.76           1050   \n",
       "6                                             0.30           4206   \n",
       "7                                             1.02            886   \n",
       "8                                             0.65           1837   \n",
       "\n",
       "   checking_amount  is_employed  yearly_salary  age  dependent_number  \n",
       "3             2764            1          15800   58                 4  \n",
       "4             3695            1          34800   31                 4  \n",
       "6             4368            1          51100   51                 2  \n",
       "7             1597            1          15000   59                 2  \n",
       "8             3795            1          12000   24                 1  "
      ]
     },
     "execution_count": 13,
     "metadata": {},
     "output_type": "execute_result"
    }
   ],
   "source": [
    "encoder = LabelEncoder()\n",
    "data['loan_purpose'] = encoder.fit_transform(data['loan_purpose'])\n",
    "data.head()"
   ]
  },
  {
   "cell_type": "code",
   "execution_count": 14,
   "metadata": {},
   "outputs": [],
   "source": [
    "categorical_feature = ['loan_purpose', 'is_first_loan', 'fully_repaid_previous_loans', \n",
    "                       'currently_repaying_other_loans', 'is_employed']\n",
    "target = 'loan_repaid'\n",
    "data[categorical_feature] = data[categorical_feature].astype('category')\n",
    "data[target] = data[target].astype('category')"
   ]
  },
  {
   "cell_type": "code",
   "execution_count": 15,
   "metadata": {},
   "outputs": [
    {
     "name": "stdout",
     "output_type": "stream",
     "text": [
      "<class 'pandas.core.frame.DataFrame'>\n",
      "Int64Index: 47654 entries, 3 to 101098\n",
      "Data columns (total 13 columns):\n",
      " #   Column                                           Non-Null Count  Dtype   \n",
      "---  ------                                           --------------  -----   \n",
      " 0   loan_purpose                                     47654 non-null  category\n",
      " 1   loan_repaid                                      47654 non-null  category\n",
      " 2   is_first_loan                                    47654 non-null  category\n",
      " 3   fully_repaid_previous_loans                      47654 non-null  category\n",
      " 4   currently_repaying_other_loans                   47654 non-null  category\n",
      " 5   total_credit_card_limit                          47654 non-null  int64   \n",
      " 6   avg_percentage_credit_card_limit_used_last_year  47654 non-null  float64 \n",
      " 7   saving_amount                                    47654 non-null  int64   \n",
      " 8   checking_amount                                  47654 non-null  int64   \n",
      " 9   is_employed                                      47654 non-null  category\n",
      " 10  yearly_salary                                    47654 non-null  int64   \n",
      " 11  age                                              47654 non-null  int64   \n",
      " 12  dependent_number                                 47654 non-null  int64   \n",
      "dtypes: category(6), float64(1), int64(6)\n",
      "memory usage: 3.2 MB\n"
     ]
    }
   ],
   "source": [
    "data.info()"
   ]
  },
  {
   "cell_type": "markdown",
   "metadata": {},
   "source": [
    "### Part 3: Train the model:\n",
    "\n",
    "#### I will train three models and see their performance: GB, Random Forest, and Logistic Regression"
   ]
  },
  {
   "cell_type": "markdown",
   "metadata": {},
   "source": [
    "### Model 1: Light GB"
   ]
  },
  {
   "cell_type": "code",
   "execution_count": 16,
   "metadata": {},
   "outputs": [],
   "source": [
    "# split into training and test data set\n",
    "\n",
    "X = data.drop('loan_repaid', axis = 1)\n",
    "y = data['loan_repaid']\n",
    "\n",
    "X_train, X_test, y_train, y_test = train_test_split(X,y, test_size = 0.25, stratify=y,random_state = 42 )"
   ]
  },
  {
   "cell_type": "code",
   "execution_count": 17,
   "metadata": {},
   "outputs": [],
   "source": [
    "# create LightGBM dataset\n",
    "\n",
    "d_train = lgb.Dataset(data=X_train, label=y_train.astype('int32'), categorical_feature=categorical_feature, free_raw_data=False)"
   ]
  },
  {
   "cell_type": "code",
   "execution_count": 18,
   "metadata": {
    "scrolled": true
   },
   "outputs": [
    {
     "name": "stdout",
     "output_type": "stream",
     "text": [
      "[LightGBM] [Warning] Accuracy may be bad since you didn't explicitly set num_leaves OR 2^max_depth > num_leaves. (num_leaves=31).\n",
      "[LightGBM] [Warning] Accuracy may be bad since you didn't explicitly set num_leaves OR 2^max_depth > num_leaves. (num_leaves=31).\n",
      "[LightGBM] [Warning] Accuracy may be bad since you didn't explicitly set num_leaves OR 2^max_depth > num_leaves. (num_leaves=31).\n",
      "[LightGBM] [Info] Number of positive: 18424, number of negative: 10168\n",
      "[LightGBM] [Warning] Auto-choosing col-wise multi-threading, the overhead of testing was 0.004905 seconds.\n",
      "You can set `force_col_wise=true` to remove the overhead.\n",
      "[LightGBM] [Info] Total Bins 1079\n",
      "[LightGBM] [Info] Number of data points in the train set: 28592, number of used features: 12\n",
      "[LightGBM] [Warning] Accuracy may be bad since you didn't explicitly set num_leaves OR 2^max_depth > num_leaves. (num_leaves=31).\n",
      "[LightGBM] [Warning] Accuracy may be bad since you didn't explicitly set num_leaves OR 2^max_depth > num_leaves. (num_leaves=31).\n",
      "[LightGBM] [Warning] Accuracy may be bad since you didn't explicitly set num_leaves OR 2^max_depth > num_leaves. (num_leaves=31).\n",
      "[LightGBM] [Info] Number of positive: 18423, number of negative: 10169\n",
      "[LightGBM] [Warning] Auto-choosing col-wise multi-threading, the overhead of testing was 0.003885 seconds.\n",
      "You can set `force_col_wise=true` to remove the overhead.\n",
      "[LightGBM] [Info] Total Bins 1079\n",
      "[LightGBM] [Info] Number of data points in the train set: 28592, number of used features: 12\n",
      "[LightGBM] [Warning] Accuracy may be bad since you didn't explicitly set num_leaves OR 2^max_depth > num_leaves. (num_leaves=31).\n",
      "[LightGBM] [Warning] Accuracy may be bad since you didn't explicitly set num_leaves OR 2^max_depth > num_leaves. (num_leaves=31).\n",
      "[LightGBM] [Warning] Accuracy may be bad since you didn't explicitly set num_leaves OR 2^max_depth > num_leaves. (num_leaves=31).\n",
      "[LightGBM] [Info] Number of positive: 18423, number of negative: 10169\n",
      "[LightGBM] [Warning] Auto-choosing col-wise multi-threading, the overhead of testing was 0.005380 seconds.\n",
      "You can set `force_col_wise=true` to remove the overhead.\n",
      "[LightGBM] [Info] Total Bins 1079\n",
      "[LightGBM] [Info] Number of data points in the train set: 28592, number of used features: 12\n",
      "[LightGBM] [Warning] Accuracy may be bad since you didn't explicitly set num_leaves OR 2^max_depth > num_leaves. (num_leaves=31).\n",
      "[LightGBM] [Warning] Accuracy may be bad since you didn't explicitly set num_leaves OR 2^max_depth > num_leaves. (num_leaves=31).\n",
      "[LightGBM] [Warning] Accuracy may be bad since you didn't explicitly set num_leaves OR 2^max_depth > num_leaves. (num_leaves=31).\n",
      "[LightGBM] [Info] Number of positive: 18423, number of negative: 10169\n",
      "[LightGBM] [Warning] Auto-choosing col-wise multi-threading, the overhead of testing was 0.006140 seconds.\n",
      "You can set `force_col_wise=true` to remove the overhead.\n",
      "[LightGBM] [Info] Total Bins 1079\n",
      "[LightGBM] [Info] Number of data points in the train set: 28592, number of used features: 12\n",
      "[LightGBM] [Warning] Accuracy may be bad since you didn't explicitly set num_leaves OR 2^max_depth > num_leaves. (num_leaves=31).\n",
      "[LightGBM] [Warning] Accuracy may be bad since you didn't explicitly set num_leaves OR 2^max_depth > num_leaves. (num_leaves=31).\n",
      "[LightGBM] [Warning] Accuracy may be bad since you didn't explicitly set num_leaves OR 2^max_depth > num_leaves. (num_leaves=31).\n",
      "[LightGBM] [Info] Number of positive: 18423, number of negative: 10169\n",
      "[LightGBM] [Warning] Auto-choosing col-wise multi-threading, the overhead of testing was 0.005141 seconds.\n",
      "You can set `force_col_wise=true` to remove the overhead.\n",
      "[LightGBM] [Info] Total Bins 1079\n",
      "[LightGBM] [Info] Number of data points in the train set: 28592, number of used features: 12\n",
      "[LightGBM] [Warning] Accuracy may be bad since you didn't explicitly set num_leaves OR 2^max_depth > num_leaves. (num_leaves=31).\n",
      "[LightGBM] [Info] [binary:BoostFromScore]: pavg=0.644376 -> initscore=0.594409\n",
      "[LightGBM] [Info] Start training from score 0.594409\n",
      "[LightGBM] [Info] [binary:BoostFromScore]: pavg=0.644341 -> initscore=0.594256\n",
      "[LightGBM] [Info] Start training from score 0.594256\n",
      "[LightGBM] [Info] [binary:BoostFromScore]: pavg=0.644341 -> initscore=0.594256\n",
      "[LightGBM] [Info] Start training from score 0.594256\n",
      "[LightGBM] [Info] [binary:BoostFromScore]: pavg=0.644341 -> initscore=0.594256\n",
      "[LightGBM] [Info] Start training from score 0.594256\n",
      "[LightGBM] [Info] [binary:BoostFromScore]: pavg=0.644341 -> initscore=0.594256\n",
      "[LightGBM] [Info] Start training from score 0.594256\n"
     ]
    }
   ],
   "source": [
    "# Cross validation\n",
    "\n",
    "params = {'learning_rate': 0.01, \n",
    "          'boosting_type': 'gbdt', \n",
    "          'objective': 'binary', \n",
    "          'metric': ['binary_logloss', 'auc'], \n",
    "          'sub_feature':0.5, \n",
    "          'num_leaves': 31, \n",
    "          'min_data': 50, \n",
    "          'max_depth': 30, \n",
    "          'is_unbalance': True}\n",
    "\n",
    "history = lgb.cv(params, train_set=d_train, num_boost_round=1000, nfold=5, \n",
    "                 early_stopping_rounds=20, seed=42, verbose_eval=False)"
   ]
  },
  {
   "cell_type": "code",
   "execution_count": 19,
   "metadata": {},
   "outputs": [
    {
     "name": "stdout",
     "output_type": "stream",
     "text": [
      "Best rounds: 767\n"
     ]
    }
   ],
   "source": [
    "print('Best rounds:', len(history['auc-mean']))"
   ]
  },
  {
   "cell_type": "code",
   "execution_count": 20,
   "metadata": {},
   "outputs": [
    {
     "name": "stdout",
     "output_type": "stream",
     "text": [
      "[LightGBM] [Warning] Accuracy may be bad since you didn't explicitly set num_leaves OR 2^max_depth > num_leaves. (num_leaves=31).\n",
      "[LightGBM] [Warning] Accuracy may be bad since you didn't explicitly set num_leaves OR 2^max_depth > num_leaves. (num_leaves=31).\n",
      "[LightGBM] [Warning] Accuracy may be bad since you didn't explicitly set num_leaves OR 2^max_depth > num_leaves. (num_leaves=31).\n",
      "[LightGBM] [Info] Number of positive: 23029, number of negative: 12711\n",
      "[LightGBM] [Warning] Auto-choosing col-wise multi-threading, the overhead of testing was 0.004476 seconds.\n",
      "You can set `force_col_wise=true` to remove the overhead.\n",
      "[LightGBM] [Info] Total Bins 1079\n",
      "[LightGBM] [Info] Number of data points in the train set: 35740, number of used features: 12\n",
      "[LightGBM] [Info] [binary:BoostFromScore]: pavg=0.644348 -> initscore=0.594287\n",
      "[LightGBM] [Info] Start training from score 0.594287\n"
     ]
    }
   ],
   "source": [
    "# re-train the model and make predictions\n",
    "\n",
    "clf = lgb.train(params, train_set=d_train, num_boost_round=767)\n",
    "pred = clf.predict(X_test)"
   ]
  },
  {
   "cell_type": "code",
   "execution_count": 21,
   "metadata": {},
   "outputs": [
    {
     "data": {
      "text/plain": [
       "array([0.94166379, 0.02062974, 0.99501144, ..., 0.06800553, 0.98054259,\n",
       "       0.99540966])"
      ]
     },
     "execution_count": 21,
     "metadata": {},
     "output_type": "execute_result"
    }
   ],
   "source": [
    "pred"
   ]
  },
  {
   "cell_type": "code",
   "execution_count": 22,
   "metadata": {},
   "outputs": [
    {
     "data": {
      "image/png": "[encoded data removed]",
      "text/plain": [
       "<Figure size 720x576 with 1 Axes>"
      ]
     },
     "metadata": {
      "needs_background": "light"
     },
     "output_type": "display_data"
    }
   ],
   "source": [
    "# feature importance\n",
    "\n",
    "features = clf.feature_name()\n",
    "importance = clf.feature_importance()\n",
    "\n",
    "fig, ax = plt.subplots(figsize=(10, 8))\n",
    "lgb.plot_importance(clf, ax=ax, height=0.5)\n",
    "plt.show()"
   ]
  },
  {
   "cell_type": "markdown",
   "metadata": {},
   "source": [
    "It seems that saving amount, checking amount and total credit card limit are the most important factors contributing to loan repaid."
   ]
  },
  {
   "cell_type": "markdown",
   "metadata": {},
   "source": [
    "### Model 2: Logistic Regression"
   ]
  },
  {
   "cell_type": "code",
   "execution_count": 24,
   "metadata": {},
   "outputs": [
    {
     "name": "stdout",
     "output_type": "stream",
     "text": [
      "The mean accuracy with 10 fold cross validation is 83.01\n"
     ]
    }
   ],
   "source": [
    "# Training the LR model:\n",
    "from sklearn.model_selection import train_test_split, cross_val_score, cross_val_predict\n",
    "from sklearn.linear_model import LogisticRegression\n",
    "\n",
    "# Initiating the model:\n",
    "lr = LogisticRegression()\n",
    "\n",
    "scores = cross_val_score(lr, X_train, y_train, scoring='accuracy' ,cv=10).mean()\n",
    "\n",
    "print(\"The mean accuracy with 10 fold cross validation is %s\" % round(scores*100,2))"
   ]
  },
  {
   "cell_type": "code",
   "execution_count": 25,
   "metadata": {},
   "outputs": [],
   "source": [
    "from sklearn import metrics\n",
    "from sklearn.model_selection import cross_val_score\n",
    "\n",
    "lr = lr.fit(X_train, y_train)\n",
    "prob = lr.predict_proba(X_test)\n",
    "predicted= lr.predict(X_test)"
   ]
  },
  {
   "cell_type": "code",
   "execution_count": 26,
   "metadata": {},
   "outputs": [
    {
     "data": {
      "text/plain": [
       "(array([0.91801127, 0.31750413, 0.96140435, ..., 0.73321486, 0.74170009,\n",
       "        0.93324523]),\n",
       " array([1., 0., 1., ..., 1., 1., 1.]))"
      ]
     },
     "execution_count": 26,
     "metadata": {},
     "output_type": "execute_result"
    }
   ],
   "source": [
    "prob[:,1], predicted"
   ]
  },
  {
   "cell_type": "code",
   "execution_count": 27,
   "metadata": {},
   "outputs": [],
   "source": [
    "from sklearn.linear_model import LogisticRegressionCV\n",
    "\n",
    "clf = LogisticRegressionCV(cv=5, random_state=0,multi_class='multinomial').fit(X_train, y_train)\n",
    "prob2 = lr.predict_proba(X_test)\n",
    "predicted2= lr.predict(X_test)"
   ]
  },
  {
   "cell_type": "code",
   "execution_count": 28,
   "metadata": {},
   "outputs": [
    {
     "data": {
      "text/plain": [
       "(array([[0.08198873, 0.91801127],\n",
       "        [0.68249587, 0.31750413],\n",
       "        [0.03859565, 0.96140435],\n",
       "        ...,\n",
       "        [0.26678514, 0.73321486],\n",
       "        [0.25829991, 0.74170009],\n",
       "        [0.06675477, 0.93324523]]),\n",
       " array([1., 0., 1., ..., 1., 1., 1.]))"
      ]
     },
     "execution_count": 28,
     "metadata": {},
     "output_type": "execute_result"
    }
   ],
   "source": [
    "prob2, predicted2"
   ]
  },
  {
   "cell_type": "code",
   "execution_count": 29,
   "metadata": {},
   "outputs": [
    {
     "name": "stdout",
     "output_type": "stream",
     "text": [
      "Bank profit:\t 3440\n"
     ]
    }
   ],
   "source": [
    "# Total profit from original bank\n",
    "\n",
    "loan_paid = y_test.astype(int).values\n",
    "bank_profit = np.sum(loan_paid*2-1)\n",
    "print('Bank profit:\\t',bank_profit)"
   ]
  },
  {
   "cell_type": "code",
   "execution_count": 30,
   "metadata": {},
   "outputs": [],
   "source": [
    "# Now, let's set a series of threshold to determine whether or not the loan will be given\n",
    "\n",
    "def calculate_profit(loan_paid, probability, threshold):\n",
    "    loan_granted = (probability > threshold).astype(int)\n",
    "    profit = 0\n",
    "    for i in range(len(loan_paid)):\n",
    "        if loan_granted[i] == 1:\n",
    "            if loan_paid[i] == 0:\n",
    "                profit -= 1\n",
    "            else:\n",
    "                profit += 1\n",
    "                \n",
    "    return profit"
   ]
  },
  {
   "cell_type": "code",
   "execution_count": 31,
   "metadata": {},
   "outputs": [],
   "source": [
    "# calculate the profit according to given threshold\n",
    "\n",
    "thresholds = list(np.linspace(0, 1, 100))\n",
    "profits = []\n",
    "profits2 = []\n",
    "\n",
    "for threshold in thresholds:\n",
    "    profits.append(calculate_profit(loan_paid, prob[:,1], threshold))\n",
    "    profits2.append(calculate_profit(loan_paid, prob2[:,1], threshold))"
   ]
  },
  {
   "cell_type": "code",
   "execution_count": 32,
   "metadata": {},
   "outputs": [
    {
     "data": {
      "image/png": "[encoded data removed]",
      "text/plain": [
       "<Figure size 576x432 with 1 Axes>"
      ]
     },
     "metadata": {
      "needs_background": "light"
     },
     "output_type": "display_data"
    }
   ],
   "source": [
    "fig, ax = plt.subplots(figsize=(8, 6))\n",
    "ax.plot(thresholds, profits, label='New Model')\n",
    "ax.plot(thresholds, profits2, label='New Model2')\n",
    "ax.plot(thresholds, [bank_profit] * len(thresholds), label='Bank Model')\n",
    "ax.set_xlabel('Threshold', fontsize=12)\n",
    "ax.set_ylabel('Profit', fontsize=12)\n",
    "ax.legend(fontsize=12)\n",
    "plt.tight_layout()\n",
    "plt.show()"
   ]
  },
  {
   "cell_type": "markdown",
   "metadata": {},
   "source": [
    "### Model 3: Random Forest Classifier"
   ]
  },
  {
   "cell_type": "code",
   "execution_count": 33,
   "metadata": {},
   "outputs": [],
   "source": [
    "from sklearn.ensemble import RandomForestClassifier\n",
    "\n",
    "clf = RandomForestClassifier(\n",
    "    n_estimators=50,\n",
    "    criterion='gini',\n",
    "    max_depth=5,\n",
    "    min_samples_split=2,\n",
    "    min_samples_leaf=1,\n",
    "    #min_weight_fraction_leaf=0.0,\n",
    "    max_features='auto',\n",
    "    #max_leaf_nodes=None,\n",
    "    #min_impurity_decrease=0.0,\n",
    "    #min_impurity_split=None,\n",
    "    #bootstrap=True,\n",
    "    oob_score=False,\n",
    "    n_jobs=-1,\n",
    "    random_state=0,\n",
    "    #verbose=0,\n",
    "    #warm_start=False,\n",
    "    #class_weight='balanced'\n",
    ")"
   ]
  },
  {
   "cell_type": "code",
   "execution_count": 34,
   "metadata": {},
   "outputs": [
    {
     "data": {
      "text/plain": [
       "RandomForestClassifier(max_depth=5, n_estimators=50, n_jobs=-1, random_state=0)"
      ]
     },
     "execution_count": 34,
     "metadata": {},
     "output_type": "execute_result"
    }
   ],
   "source": [
    "clf.fit(X_train,y_train)"
   ]
  },
  {
   "cell_type": "code",
   "execution_count": 35,
   "metadata": {},
   "outputs": [
    {
     "data": {
      "text/plain": [
       "array([0.00116574, 0.00111653, 0.00097921, 0.04471463, 0.08270416,\n",
       "       0.01542995, 0.36040827, 0.3326299 , 0.03497253, 0.12228668,\n",
       "       0.00036721, 0.0032252 ])"
      ]
     },
     "execution_count": 35,
     "metadata": {},
     "output_type": "execute_result"
    }
   ],
   "source": [
    "feature_importance_values = clf.feature_importances_\n",
    "\n",
    "feature_importance_values"
   ]
  },
  {
   "cell_type": "code",
   "execution_count": 36,
   "metadata": {},
   "outputs": [],
   "source": [
    "predictions = clf.predict(X_test)"
   ]
  },
  {
   "cell_type": "code",
   "execution_count": 37,
   "metadata": {},
   "outputs": [
    {
     "name": "stdout",
     "output_type": "stream",
     "text": [
      "Accuracy:  0.9127077387946954\n",
      "confusion matrix: [[3853  384]\n",
      " [ 656 7021]]\n",
      "F1: 0.9310436281660257\n"
     ]
    }
   ],
   "source": [
    "from sklearn.metrics import confusion_matrix\n",
    "from sklearn.metrics import f1_score\n",
    "from sklearn.metrics import accuracy_score\n",
    "\n",
    "print('Accuracy: ', accuracy_score(y_test, predictions))\n",
    "print('confusion matrix:', confusion_matrix(y_test, predictions))\n",
    "print('F1:', f1_score(y_test, predictions))"
   ]
  },
  {
   "cell_type": "markdown",
   "metadata": {},
   "source": [
    "It seems that the three models have not many differences, we can choose any of those three."
   ]
  },
  {
   "cell_type": "markdown",
   "metadata": {},
   "source": [
    "### Part 4: Other important variables:"
   ]
  },
  {
   "cell_type": "markdown",
   "metadata": {},
   "source": [
    "1. famaily situation: Does the borrower have any spounse or relatives that can help to pay off the loan?"
   ]
  },
  {
   "cell_type": "markdown",
   "metadata": {},
   "source": [
    "2. housing or other real estates: Does the borrower have some properties that can help repay the loan?"
   ]
  },
  {
   "cell_type": "markdown",
   "metadata": {},
   "source": [
    "3. Education and employment information: People with higher education or high paying job will be more likely to pay off the loan"
   ]
  },
  {
   "cell_type": "code",
   "execution_count": null,
   "metadata": {},
   "outputs": [],
   "source": []
  }
 ],
 "metadata": {
  "kernelspec": {
   "display_name": "Python 3 (ipykernel)",
   "language": "python",
   "name": "python3"
  },
  "language_info": {
   "codemirror_mode": {
    "name": "ipython",
    "version": 3
   },
   "file_extension": ".py",
   "mimetype": "text/x-python",
   "name": "python",
   "nbconvert_exporter": "python",
   "pygments_lexer": "ipython3",
   "version": "3.9.12"
  }
 },
 "nbformat": 4,
 "nbformat_minor": 2
}
