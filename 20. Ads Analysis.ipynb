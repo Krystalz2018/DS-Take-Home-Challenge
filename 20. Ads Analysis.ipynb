{
 "cells": [
  {
   "cell_type": "markdown",
   "id": "42bc715e",
   "metadata": {},
   "source": [
    "# Goal of Analysis\n",
    "\n",
    "## 1. If you had to identify the 5 best ad groups, which ones would they be? Which metric did you choose to identify the best ad groups? Why? Explain the pros and cons of your metrics.\n",
    "\n",
    "## 2. For each group, predict how many ads will be shown on Dec, 15 (assume each ad group keeps following its trend).\n",
    "\n",
    "## 3. Cluster ads into 3 groups: the ones whose avg_cost_per_click is going up, the ones whose avg_cost_per_click is flat and the ones whose avg_cost_per_click is going down."
   ]
  },
  {
   "cell_type": "code",
   "execution_count": 1,
   "id": "dcfe5fc0",
   "metadata": {},
   "outputs": [],
   "source": [
    "import numpy as np\n",
    "import pandas as pd\n",
    "import seaborn as sns\n",
    "import matplotlib.pyplot as plt\n",
    "\n",
    "import warnings\n",
    "warnings.filterwarnings('ignore')"
   ]
  },
  {
   "cell_type": "markdown",
   "id": "7775be4b",
   "metadata": {},
   "source": [
    "### Load Data"
   ]
  },
  {
   "cell_type": "code",
   "execution_count": 3,
   "id": "92cf9699",
   "metadata": {},
   "outputs": [
    {
     "data": {
      "text/html": [
       "<div>\n",
       "<style scoped>\n",
       "    .dataframe tbody tr th:only-of-type {\n",
       "        vertical-align: middle;\n",
       "    }\n",
       "\n",
       "    .dataframe tbody tr th {\n",
       "        vertical-align: top;\n",
       "    }\n",
       "\n",
       "    .dataframe thead th {\n",
       "        text-align: right;\n",
       "    }\n",
       "</style>\n",
       "<table border=\"1\" class=\"dataframe\">\n",
       "  <thead>\n",
       "    <tr style=\"text-align: right;\">\n",
       "      <th></th>\n",
       "      <th>date</th>\n",
       "      <th>shown</th>\n",
       "      <th>clicked</th>\n",
       "      <th>converted</th>\n",
       "      <th>avg_cost_per_click</th>\n",
       "      <th>total_revenue</th>\n",
       "      <th>ad</th>\n",
       "    </tr>\n",
       "  </thead>\n",
       "  <tbody>\n",
       "    <tr>\n",
       "      <th>0</th>\n",
       "      <td>2015-10-01</td>\n",
       "      <td>65877</td>\n",
       "      <td>2339</td>\n",
       "      <td>43</td>\n",
       "      <td>0.90</td>\n",
       "      <td>641.62</td>\n",
       "      <td>ad_group_1</td>\n",
       "    </tr>\n",
       "    <tr>\n",
       "      <th>1</th>\n",
       "      <td>2015-10-02</td>\n",
       "      <td>65100</td>\n",
       "      <td>2498</td>\n",
       "      <td>38</td>\n",
       "      <td>0.94</td>\n",
       "      <td>756.37</td>\n",
       "      <td>ad_group_1</td>\n",
       "    </tr>\n",
       "    <tr>\n",
       "      <th>2</th>\n",
       "      <td>2015-10-03</td>\n",
       "      <td>70658</td>\n",
       "      <td>2313</td>\n",
       "      <td>49</td>\n",
       "      <td>0.86</td>\n",
       "      <td>970.90</td>\n",
       "      <td>ad_group_1</td>\n",
       "    </tr>\n",
       "    <tr>\n",
       "      <th>3</th>\n",
       "      <td>2015-10-04</td>\n",
       "      <td>69809</td>\n",
       "      <td>2833</td>\n",
       "      <td>51</td>\n",
       "      <td>1.01</td>\n",
       "      <td>907.39</td>\n",
       "      <td>ad_group_1</td>\n",
       "    </tr>\n",
       "    <tr>\n",
       "      <th>4</th>\n",
       "      <td>2015-10-05</td>\n",
       "      <td>68186</td>\n",
       "      <td>2696</td>\n",
       "      <td>41</td>\n",
       "      <td>1.00</td>\n",
       "      <td>879.45</td>\n",
       "      <td>ad_group_1</td>\n",
       "    </tr>\n",
       "  </tbody>\n",
       "</table>\n",
       "</div>"
      ],
      "text/plain": [
       "        date  shown  clicked  converted  avg_cost_per_click  total_revenue  \\\n",
       "0 2015-10-01  65877     2339         43                0.90         641.62   \n",
       "1 2015-10-02  65100     2498         38                0.94         756.37   \n",
       "2 2015-10-03  70658     2313         49                0.86         970.90   \n",
       "3 2015-10-04  69809     2833         51                1.01         907.39   \n",
       "4 2015-10-05  68186     2696         41                1.00         879.45   \n",
       "\n",
       "           ad  \n",
       "0  ad_group_1  \n",
       "1  ad_group_1  \n",
       "2  ad_group_1  \n",
       "3  ad_group_1  \n",
       "4  ad_group_1  "
      ]
     },
     "execution_count": 3,
     "metadata": {},
     "output_type": "execute_result"
    }
   ],
   "source": [
    "data = pd.read_csv('ad_table.csv', parse_dates = ['date'])\n",
    "data.head()"
   ]
  },
  {
   "cell_type": "code",
   "execution_count": 7,
   "id": "5120e703",
   "metadata": {},
   "outputs": [
    {
     "name": "stdout",
     "output_type": "stream",
     "text": [
      "<class 'pandas.core.frame.DataFrame'>\n",
      "RangeIndex: 2115 entries, 0 to 2114\n",
      "Data columns (total 7 columns):\n",
      " #   Column              Non-Null Count  Dtype         \n",
      "---  ------              --------------  -----         \n",
      " 0   date                2115 non-null   datetime64[ns]\n",
      " 1   shown               2115 non-null   int64         \n",
      " 2   clicked             2115 non-null   int64         \n",
      " 3   converted           2115 non-null   int64         \n",
      " 4   avg_cost_per_click  2115 non-null   float64       \n",
      " 5   total_revenue       2115 non-null   float64       \n",
      " 6   ad                  2115 non-null   object        \n",
      "dtypes: datetime64[ns](1), float64(2), int64(3), object(1)\n",
      "memory usage: 115.8+ KB\n"
     ]
    }
   ],
   "source": [
    "data.info()"
   ]
  },
  {
   "cell_type": "markdown",
   "id": "839cdbb7",
   "metadata": {},
   "source": [
    "### Question 1"
   ]
  },
  {
   "cell_type": "code",
   "execution_count": 8,
   "id": "31fc3b1f",
   "metadata": {},
   "outputs": [
    {
     "data": {
      "text/html": [
       "<div>\n",
       "<style scoped>\n",
       "    .dataframe tbody tr th:only-of-type {\n",
       "        vertical-align: middle;\n",
       "    }\n",
       "\n",
       "    .dataframe tbody tr th {\n",
       "        vertical-align: top;\n",
       "    }\n",
       "\n",
       "    .dataframe thead th {\n",
       "        text-align: right;\n",
       "    }\n",
       "</style>\n",
       "<table border=\"1\" class=\"dataframe\">\n",
       "  <thead>\n",
       "    <tr style=\"text-align: right;\">\n",
       "      <th></th>\n",
       "      <th>date</th>\n",
       "      <th>shown</th>\n",
       "      <th>clicked</th>\n",
       "      <th>converted</th>\n",
       "      <th>avg_cost_per_click</th>\n",
       "      <th>total_revenue</th>\n",
       "      <th>ad</th>\n",
       "      <th>profit</th>\n",
       "    </tr>\n",
       "  </thead>\n",
       "  <tbody>\n",
       "    <tr>\n",
       "      <th>0</th>\n",
       "      <td>2015-10-01</td>\n",
       "      <td>65877</td>\n",
       "      <td>2339</td>\n",
       "      <td>43</td>\n",
       "      <td>0.90</td>\n",
       "      <td>641.62</td>\n",
       "      <td>ad_group_1</td>\n",
       "      <td>-1463.48</td>\n",
       "    </tr>\n",
       "    <tr>\n",
       "      <th>1</th>\n",
       "      <td>2015-10-02</td>\n",
       "      <td>65100</td>\n",
       "      <td>2498</td>\n",
       "      <td>38</td>\n",
       "      <td>0.94</td>\n",
       "      <td>756.37</td>\n",
       "      <td>ad_group_1</td>\n",
       "      <td>-1591.75</td>\n",
       "    </tr>\n",
       "    <tr>\n",
       "      <th>2</th>\n",
       "      <td>2015-10-03</td>\n",
       "      <td>70658</td>\n",
       "      <td>2313</td>\n",
       "      <td>49</td>\n",
       "      <td>0.86</td>\n",
       "      <td>970.90</td>\n",
       "      <td>ad_group_1</td>\n",
       "      <td>-1018.28</td>\n",
       "    </tr>\n",
       "    <tr>\n",
       "      <th>3</th>\n",
       "      <td>2015-10-04</td>\n",
       "      <td>69809</td>\n",
       "      <td>2833</td>\n",
       "      <td>51</td>\n",
       "      <td>1.01</td>\n",
       "      <td>907.39</td>\n",
       "      <td>ad_group_1</td>\n",
       "      <td>-1953.94</td>\n",
       "    </tr>\n",
       "    <tr>\n",
       "      <th>4</th>\n",
       "      <td>2015-10-05</td>\n",
       "      <td>68186</td>\n",
       "      <td>2696</td>\n",
       "      <td>41</td>\n",
       "      <td>1.00</td>\n",
       "      <td>879.45</td>\n",
       "      <td>ad_group_1</td>\n",
       "      <td>-1816.55</td>\n",
       "    </tr>\n",
       "  </tbody>\n",
       "</table>\n",
       "</div>"
      ],
      "text/plain": [
       "        date  shown  clicked  converted  avg_cost_per_click  total_revenue  \\\n",
       "0 2015-10-01  65877     2339         43                0.90         641.62   \n",
       "1 2015-10-02  65100     2498         38                0.94         756.37   \n",
       "2 2015-10-03  70658     2313         49                0.86         970.90   \n",
       "3 2015-10-04  69809     2833         51                1.01         907.39   \n",
       "4 2015-10-05  68186     2696         41                1.00         879.45   \n",
       "\n",
       "           ad   profit  \n",
       "0  ad_group_1 -1463.48  \n",
       "1  ad_group_1 -1591.75  \n",
       "2  ad_group_1 -1018.28  \n",
       "3  ad_group_1 -1953.94  \n",
       "4  ad_group_1 -1816.55  "
      ]
     },
     "execution_count": 8,
     "metadata": {},
     "output_type": "execute_result"
    }
   ],
   "source": [
    "# calculate the profit: total_revenue - total_cost\n",
    "\n",
    "data['profit'] = data['total_revenue'] - data['avg_cost_per_click'] * data['clicked']\n",
    "data.head()"
   ]
  },
  {
   "cell_type": "markdown",
   "id": "c09b0174",
   "metadata": {},
   "source": [
    "Because I already calculated the net profit using the total revenue and the total cost, so I will use profit as the metric to identify the 5 best ad groups."
   ]
  },
  {
   "cell_type": "markdown",
   "id": "e6102e8b",
   "metadata": {},
   "source": [
    "I first difine a function to calculate the unit profit using the proft and shown."
   ]
  },
  {
   "cell_type": "code",
   "execution_count": 9,
   "id": "4c7f90b7",
   "metadata": {},
   "outputs": [],
   "source": [
    "def unit_profit(df):\n",
    "    profit = df['profit'].sum()\n",
    "    shown = df['shown'].sum()\n",
    "    val = profit / shown\n",
    "    \n",
    "    return val"
   ]
  },
  {
   "cell_type": "code",
   "execution_count": 11,
   "id": "c9061fb9",
   "metadata": {},
   "outputs": [
    {
     "data": {
      "text/html": [
       "<div>\n",
       "<style scoped>\n",
       "    .dataframe tbody tr th:only-of-type {\n",
       "        vertical-align: middle;\n",
       "    }\n",
       "\n",
       "    .dataframe tbody tr th {\n",
       "        vertical-align: top;\n",
       "    }\n",
       "\n",
       "    .dataframe thead th {\n",
       "        text-align: right;\n",
       "    }\n",
       "</style>\n",
       "<table border=\"1\" class=\"dataframe\">\n",
       "  <thead>\n",
       "    <tr style=\"text-align: right;\">\n",
       "      <th></th>\n",
       "      <th>ad</th>\n",
       "      <th>unit_profit</th>\n",
       "    </tr>\n",
       "  </thead>\n",
       "  <tbody>\n",
       "    <tr>\n",
       "      <th>7</th>\n",
       "      <td>ad_group_16</td>\n",
       "      <td>0.020516</td>\n",
       "    </tr>\n",
       "    <tr>\n",
       "      <th>11</th>\n",
       "      <td>ad_group_2</td>\n",
       "      <td>0.020116</td>\n",
       "    </tr>\n",
       "    <tr>\n",
       "      <th>5</th>\n",
       "      <td>ad_group_14</td>\n",
       "      <td>0.016485</td>\n",
       "    </tr>\n",
       "    <tr>\n",
       "      <th>24</th>\n",
       "      <td>ad_group_31</td>\n",
       "      <td>0.005824</td>\n",
       "    </tr>\n",
       "    <tr>\n",
       "      <th>19</th>\n",
       "      <td>ad_group_27</td>\n",
       "      <td>0.000725</td>\n",
       "    </tr>\n",
       "  </tbody>\n",
       "</table>\n",
       "</div>"
      ],
      "text/plain": [
       "             ad  unit_profit\n",
       "7   ad_group_16     0.020516\n",
       "11   ad_group_2     0.020116\n",
       "5   ad_group_14     0.016485\n",
       "24  ad_group_31     0.005824\n",
       "19  ad_group_27     0.000725"
      ]
     },
     "execution_count": 11,
     "metadata": {},
     "output_type": "execute_result"
    }
   ],
   "source": [
    "grouped = data.groupby('ad').apply(unit_profit).reset_index()\n",
    "grouped = grouped.rename(columns={0: 'unit_profit'})\n",
    "grouped = grouped.sort_values(by='unit_profit', ascending=False)\n",
    "\n",
    "grouped.head(5)"
   ]
  },
  {
   "cell_type": "markdown",
   "id": "969db477",
   "metadata": {},
   "source": [
    "Based on above calculation, we can see the the top 5 best ad groups are: ad_group_16, ad_group_2, ad_group_14, ad_group_31, ad_group_27."
   ]
  },
  {
   "cell_type": "markdown",
   "id": "bc227c4d",
   "metadata": {},
   "source": [
    "### Question 3"
   ]
  },
  {
   "cell_type": "markdown",
   "id": "fe188be3",
   "metadata": {},
   "source": [
    "I need to define a function to calculate the avg_cost_per_click trend before answering the question"
   ]
  },
  {
   "cell_type": "code",
   "execution_count": 12,
   "id": "edc8d055",
   "metadata": {},
   "outputs": [],
   "source": [
    "def cost_stats(df):\n",
    "    tmp = df.sort_values(by='date')['avg_cost_per_click'].values\n",
    "    ratio = tmp[1:] / tmp[:-1]\n",
    "    \n",
    "    ratio_mean = np.mean(ratio)\n",
    "    ratio_min = np.min(ratio)\n",
    "    ratio_25 = np.percentile(ratio, 25)\n",
    "    ratio_50 = np.percentile(ratio, 50)\n",
    "    ratio_75 = np.percentile(ratio, 75)\n",
    "    ratio_max = np.max(ratio)\n",
    "    \n",
    "    return pd.Series([ratio_mean, ratio_min, ratio_25, ratio_50, ratio_75, ratio_max], \n",
    "                     index=['mean', 'min', '25%', '50%', '75%', 'max'])"
   ]
  },
  {
   "cell_type": "code",
   "execution_count": 13,
   "id": "26ad8081",
   "metadata": {},
   "outputs": [
    {
     "data": {
      "text/html": [
       "<div>\n",
       "<style scoped>\n",
       "    .dataframe tbody tr th:only-of-type {\n",
       "        vertical-align: middle;\n",
       "    }\n",
       "\n",
       "    .dataframe tbody tr th {\n",
       "        vertical-align: top;\n",
       "    }\n",
       "\n",
       "    .dataframe thead th {\n",
       "        text-align: right;\n",
       "    }\n",
       "</style>\n",
       "<table border=\"1\" class=\"dataframe\">\n",
       "  <thead>\n",
       "    <tr style=\"text-align: right;\">\n",
       "      <th></th>\n",
       "      <th>mean</th>\n",
       "      <th>min</th>\n",
       "      <th>25%</th>\n",
       "      <th>50%</th>\n",
       "      <th>75%</th>\n",
       "      <th>max</th>\n",
       "    </tr>\n",
       "    <tr>\n",
       "      <th>ad</th>\n",
       "      <th></th>\n",
       "      <th></th>\n",
       "      <th></th>\n",
       "      <th></th>\n",
       "      <th></th>\n",
       "      <th></th>\n",
       "    </tr>\n",
       "  </thead>\n",
       "  <tbody>\n",
       "    <tr>\n",
       "      <th>ad_group_1</th>\n",
       "      <td>1.007436</td>\n",
       "      <td>0.822430</td>\n",
       "      <td>0.930747</td>\n",
       "      <td>0.989999</td>\n",
       "      <td>1.094223</td>\n",
       "      <td>1.282353</td>\n",
       "    </tr>\n",
       "    <tr>\n",
       "      <th>ad_group_10</th>\n",
       "      <td>1.011576</td>\n",
       "      <td>0.689922</td>\n",
       "      <td>0.920666</td>\n",
       "      <td>0.976923</td>\n",
       "      <td>1.105323</td>\n",
       "      <td>1.382022</td>\n",
       "    </tr>\n",
       "    <tr>\n",
       "      <th>ad_group_11</th>\n",
       "      <td>inf</td>\n",
       "      <td>0.000000</td>\n",
       "      <td>0.957944</td>\n",
       "      <td>1.002941</td>\n",
       "      <td>1.052941</td>\n",
       "      <td>inf</td>\n",
       "    </tr>\n",
       "    <tr>\n",
       "      <th>ad_group_12</th>\n",
       "      <td>inf</td>\n",
       "      <td>0.000000</td>\n",
       "      <td>0.945670</td>\n",
       "      <td>1.005051</td>\n",
       "      <td>1.060455</td>\n",
       "      <td>inf</td>\n",
       "    </tr>\n",
       "    <tr>\n",
       "      <th>ad_group_13</th>\n",
       "      <td>inf</td>\n",
       "      <td>0.000000</td>\n",
       "      <td>0.958716</td>\n",
       "      <td>1.000015</td>\n",
       "      <td>1.071825</td>\n",
       "      <td>inf</td>\n",
       "    </tr>\n",
       "  </tbody>\n",
       "</table>\n",
       "</div>"
      ],
      "text/plain": [
       "                 mean       min       25%       50%       75%       max\n",
       "ad                                                                     \n",
       "ad_group_1   1.007436  0.822430  0.930747  0.989999  1.094223  1.282353\n",
       "ad_group_10  1.011576  0.689922  0.920666  0.976923  1.105323  1.382022\n",
       "ad_group_11       inf  0.000000  0.957944  1.002941  1.052941       inf\n",
       "ad_group_12       inf  0.000000  0.945670  1.005051  1.060455       inf\n",
       "ad_group_13       inf  0.000000  0.958716  1.000015  1.071825       inf"
      ]
     },
     "execution_count": 13,
     "metadata": {},
     "output_type": "execute_result"
    }
   ],
   "source": [
    "stats = data.groupby('ad').apply(cost_stats)\n",
    "stats.head()"
   ]
  },
  {
   "cell_type": "code",
   "execution_count": 14,
   "id": "f6fc0447",
   "metadata": {},
   "outputs": [
    {
     "data": {
      "image/png": "[encoded data removed]",
      "text/plain": [
       "<Figure size 864x720 with 3 Axes>"
      ]
     },
     "metadata": {
      "needs_background": "light"
     },
     "output_type": "display_data"
    }
   ],
   "source": [
    "# visualization\n",
    "\n",
    "hist_kws={'histtype': 'bar', 'edgecolor':'black', 'alpha': 0.2}\n",
    "\n",
    "fig, ax = plt.subplots(nrows=3, ncols=1, figsize=(12, 10), sharex=True)\n",
    "sns.distplot(stats['25%'], bins=40, ax=ax[0], label='25%', hist_kws=hist_kws)\n",
    "ax[0].legend(fontsize=12)\n",
    "sns.distplot(stats['50%'], bins=40, ax=ax[1], label='50%', hist_kws=hist_kws)\n",
    "ax[1].legend(fontsize=12)\n",
    "sns.distplot(stats['75%'], bins=40, ax=ax[2], label='75%', hist_kws=hist_kws)\n",
    "ax[2].legend(fontsize=12)\n",
    "plt.tight_layout()\n",
    "plt.show()"
   ]
  },
  {
   "cell_type": "markdown",
   "id": "23b584d3",
   "metadata": {},
   "source": [
    "Based on the above analysis, we should manually set a series cutoff thresholds to identify the cluster of going up, flat, and going down."
   ]
  },
  {
   "cell_type": "code",
   "execution_count": null,
   "id": "0736e131",
   "metadata": {},
   "outputs": [],
   "source": []
  }
 ],
 "metadata": {
  "kernelspec": {
   "display_name": "Python 3 (ipykernel)",
   "language": "python",
   "name": "python3"
  },
  "language_info": {
   "codemirror_mode": {
    "name": "ipython",
    "version": 3
   },
   "file_extension": ".py",
   "mimetype": "text/x-python",
   "name": "python",
   "nbconvert_exporter": "python",
   "pygments_lexer": "ipython3",
   "version": "3.7.6"
  }
 },
 "nbformat": 4,
 "nbformat_minor": 5
}
